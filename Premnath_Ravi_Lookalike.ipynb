{
 "cells": [
  {
   "cell_type": "code",
   "execution_count": 1,
   "id": "13f9a7b4-6b3d-423b-9267-dfeb7b15658f",
   "metadata": {},
   "outputs": [],
   "source": [
    "import pandas as pd\n",
    "from sklearn.metrics.pairwise import cosine_similarity\n",
    "from sklearn.preprocessing import StandardScaler\n",
    "import numpy as np\n",
    "\n",
    "# Load the datasets\n",
    "customers = pd.read_csv('Customers.csv')\n",
    "transactions = pd.read_csv('Transactions.csv')\n",
    "products = pd.read_csv('Products.csv')"
   ]
  },
  {
   "cell_type": "markdown",
   "id": "b9d221df",
   "metadata": {},
   "source": [
    "# Merge datasets to create a comprehensive dataset\n",
    "# Merge transactions with customers"
   ]
  },
  {
   "cell_type": "code",
   "execution_count": 2,
   "id": "4ecdbb1f-f769-4701-b384-3c735e2fc918",
   "metadata": {},
   "outputs": [],
   "source": [
    "merged_data = transactions.merge(customers, on='CustomerID')"
   ]
  },
  {
   "cell_type": "markdown",
   "id": "9e59aa29",
   "metadata": {},
   "source": [
    "# Merge with products to get product information"
   ]
  },
  {
   "cell_type": "code",
   "execution_count": 3,
   "id": "c87a82df-53f3-401e-9927-7b5817c86c0e",
   "metadata": {},
   "outputs": [],
   "source": [
    "merged_data = merged_data.merge(products, on='ProductID')"
   ]
  },
  {
   "cell_type": "markdown",
   "id": "a74c6951",
   "metadata": {},
   "source": [
    "# Feature Engineering\n",
    "# Create a pivot table to summarize transaction history"
   ]
  },
  {
   "cell_type": "code",
   "execution_count": 4,
   "id": "b048d78c-8393-47fe-9c4f-2148ffe90355",
   "metadata": {},
   "outputs": [],
   "source": [
    "transaction_summary = merged_data.groupby(['CustomerID']).agg({\n",
    "    'TotalValue': 'sum',\n",
    "    'Quantity': 'sum',\n",
    "    'ProductID': 'nunique'\n",
    "}).reset_index()"
   ]
  },
  {
   "cell_type": "markdown",
   "id": "c842da8d",
   "metadata": {},
   "source": [
    "# Rename columns for clarity"
   ]
  },
  {
   "cell_type": "code",
   "execution_count": 5,
   "id": "f1b325c0-a509-405c-8b42-364e674e9b0f",
   "metadata": {},
   "outputs": [],
   "source": [
    "transaction_summary.rename(columns={\n",
    "    'TotalValue': 'TotalSpent',\n",
    "    'Quantity': 'TotalQuantity',\n",
    "    'ProductID': 'UniqueProducts'\n",
    "}, inplace=True)"
   ]
  },
  {
   "cell_type": "markdown",
   "id": "5fc2226c",
   "metadata": {},
   "source": [
    "# Merge back with customer data to include customer features"
   ]
  },
  {
   "cell_type": "code",
   "execution_count": 6,
   "id": "8cd70be0-6a41-4f50-aff0-81f2949b6412",
   "metadata": {},
   "outputs": [],
   "source": [
    "customer_features = customers.merge(transaction_summary, on='CustomerID', how='left').fillna(0)"
   ]
  },
  {
   "cell_type": "markdown",
   "id": "7f4661a3",
   "metadata": {},
   "source": [
    "# Select relevant features for similarity calculation"
   ]
  },
  {
   "cell_type": "code",
   "execution_count": 7,
   "id": "ef48c126-dd33-47f2-80f4-09561fe714bc",
   "metadata": {},
   "outputs": [],
   "source": [
    "features = customer_features[['Region', 'TotalSpent', 'TotalQuantity', 'UniqueProducts']]"
   ]
  },
  {
   "cell_type": "markdown",
   "id": "a10dc5cf",
   "metadata": {},
   "source": [
    "# One-hot encode categorical features (Region)"
   ]
  },
  {
   "cell_type": "code",
   "execution_count": 8,
   "id": "d8bf7de9-975c-45d8-a5ae-3a1f683935b7",
   "metadata": {},
   "outputs": [],
   "source": [
    "features = pd.get_dummies(features, columns=['Region'], drop_first=True)"
   ]
  },
  {
   "cell_type": "markdown",
   "id": "93a249d7",
   "metadata": {},
   "source": [
    " #Standardize the features"
   ]
  },
  {
   "cell_type": "code",
   "execution_count": 10,
   "id": "a8fe37d4-8faa-46e7-8df1-57e8a931d70e",
   "metadata": {},
   "outputs": [],
   "source": [
    "scaler = StandardScaler()\n",
    "scaled_features = scaler.fit_transform(features)"
   ]
  },
  {
   "cell_type": "markdown",
   "id": "a37a4830",
   "metadata": {},
   "source": [
    "# Calculate cosine similarity"
   ]
  },
  {
   "cell_type": "code",
   "execution_count": 11,
   "id": "945eedff-3504-4522-86be-410452cfc210",
   "metadata": {},
   "outputs": [],
   "source": [
    "similarity_matrix = cosine_similarity(scaled_features)"
   ]
  },
  {
   "cell_type": "markdown",
   "id": "1bb38f78",
   "metadata": {},
   "source": [
    "# Create a DataFrame for similarity scores"
   ]
  },
  {
   "cell_type": "code",
   "execution_count": 12,
   "id": "f8a47ff5-d210-4239-9bc4-81d8bab4189e",
   "metadata": {},
   "outputs": [],
   "source": [
    "similarity_df = pd.DataFrame(similarity_matrix, index=customer_features['CustomerID'], columns=customer_features['CustomerID'])"
   ]
  },
  {
   "cell_type": "markdown",
   "id": "1fa3a7d2",
   "metadata": {},
   "source": [
    "\n",
    "# Function to get top 3 lookalikes for a given customer"
   ]
  },
  {
   "cell_type": "code",
   "execution_count": 13,
   "id": "6aaacc26-409f-45e3-b26c-368addfac776",
   "metadata": {},
   "outputs": [],
   "source": [
    "def get_top_lookalikes(customer_id, n=3):\n",
    "    # Get the similarity scores for the given customer\n",
    "    scores = similarity_df[customer_id].sort_values(ascending=False)\n",
    "    # Exclude the customer itself\n",
    "    scores = scores[scores.index != customer_id]\n",
    "    # Get the top n lookalikes\n",
    "    return scores.head(n)"
   ]
  },
  {
   "cell_type": "markdown",
   "id": "99da4dfc",
   "metadata": {},
   "source": [
    "# Create a dictionary to store the lookalikes"
   ]
  },
  {
   "cell_type": "code",
   "execution_count": 14,
   "id": "c8a9a313-3aca-477a-a69a-ddf327459ab0",
   "metadata": {},
   "outputs": [],
   "source": [
    "lookalike_results = {}"
   ]
  },
  {
   "cell_type": "markdown",
   "id": "3c6d6daa",
   "metadata": {},
   "source": [
    "# Get lookalikes for the first 20 customers (C0001 - C0020)"
   ]
  },
  {
   "cell_type": "code",
   "execution_count": 15,
   "id": "aa0ad199-5cc6-4df7-89cf-48919775cc61",
   "metadata": {},
   "outputs": [],
   "source": [
    "for customer_id in customer_features['CustomerID'][:20]:\n",
    "    lookalikes = get_top_lookalikes(customer_id)\n",
    "    lookalike_results[customer_id] = list(zip(lookalikes.index, lookalikes.values))\n"
   ]
  },
  {
   "cell_type": "markdown",
   "id": "762ce632",
   "metadata": {},
   "source": [
    "# Create a list to store the lookalike results"
   ]
  },
  {
   "cell_type": "code",
   "execution_count": 18,
   "id": "9fcde17f-bd86-471a-8d9d-85dccbe16116",
   "metadata": {},
   "outputs": [
    {
     "name": "stdout",
     "output_type": "stream",
     "text": [
      "Lookalike recommendations saved to Lookalike.csv\n"
     ]
    }
   ],
   "source": [
    "lookalike_list = []\n",
    "\n",
    "# Get lookalikes for the first 20 customers (C0001 - C0020)\n",
    "for customer_id in customer_features['CustomerID'][:20]:\n",
    "    lookalikes = get_top_lookalikes(customer_id)\n",
    "    for lookalike_id, score in zip(lookalikes.index, lookalikes.values):\n",
    "        lookalike_list.append({\n",
    "            'CustomerID': customer_id,\n",
    "            'LookalikeID': lookalike_id,\n",
    "            'SimilarityScore': score\n",
    "        })\n",
    "\n",
    "# Convert the results to a DataFrame\n",
    "lookalike_df = pd.DataFrame(lookalike_list)\n",
    "\n",
    "# Save the results to a CSV file\n",
    "lookalike_df.to_csv('Lookalike.csv', index=False)\n",
    "\n",
    "print(\"Lookalike recommendations saved to Lookalike.csv\")"
   ]
  },
  {
   "cell_type": "markdown",
   "id": "0b93d7c1",
   "metadata": {},
   "source": [
    "# Save the results to a CSV file"
   ]
  },
  {
   "cell_type": "code",
   "execution_count": 19,
   "id": "3befc425-bd3d-4bb0-ba56-c074d0734505",
   "metadata": {},
   "outputs": [
    {
     "name": "stdout",
     "output_type": "stream",
     "text": [
      "Lookalike recommendations saved to Lookalike.csv\n"
     ]
    }
   ],
   "source": [
    "\n",
    "lookalike_df.to_csv('Lookalike.csv', index=False)\n",
    "\n",
    "print(\"Lookalike recommendations saved to Lookalike.csv\")"
   ]
  },
  {
   "cell_type": "code",
   "execution_count": null,
   "id": "90456916-0f29-4a4c-87bc-238b98cef8c3",
   "metadata": {},
   "outputs": [],
   "source": []
  }
 ],
 "metadata": {
  "kernelspec": {
   "display_name": "Python 3 (ipykernel)",
   "language": "python",
   "name": "python3"
  },
  "language_info": {
   "codemirror_mode": {
    "name": "ipython",
    "version": 3
   },
   "file_extension": ".py",
   "mimetype": "text/x-python",
   "name": "python",
   "nbconvert_exporter": "python",
   "pygments_lexer": "ipython3",
   "version": "3.12.7"
  }
 },
 "nbformat": 4,
 "nbformat_minor": 5
}
